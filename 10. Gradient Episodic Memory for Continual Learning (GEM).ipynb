{
  "nbformat": 4,
  "nbformat_minor": 0,
  "metadata": {
    "colab": {
      "name": "GEM.ipynb",
      "provenance": [],
      "collapsed_sections": [],
      "toc_visible": true
    },
    "kernelspec": {
      "name": "python3",
      "display_name": "Python 3"
    },
    "language_info": {
      "name": "python"
    }
  },
  "cells": [
    {
      "cell_type": "markdown",
      "source": [
        "# CE-40959: Advanced Machine Learning\n",
        "## HW5 - Continual Learning (90 points)\n",
        "\n",
        "#### Name: \n",
        "#### Student No: "
      ],
      "metadata": {
        "id": "vQ9vc_NWigTE"
      }
    },
    {
      "cell_type": "markdown",
      "source": [
        "In this notebook, you are going to see the `catastrophic forgetting` phenomenon in continual learning scenarios and then alleviate this problem by implementing [Gradient Episodic Memory(GEM)](https://arxiv.org/abs/1706.08840) on the `MNIST` dataset.\n",
        "\n",
        "\n",
        "Please write your code in specified sections and do not change anything else. If you have a question regarding this homework, please ask it on the Quera.\n",
        "\n",
        "Also, it is recommended to use Google Colab to do this homework. You can connect to your drive using the code below:"
      ],
      "metadata": {
        "id": "5r9Y8-G0iozQ"
      }
    },
    {
      "cell_type": "code",
      "execution_count": null,
      "metadata": {
        "id": "nGnkMrr6iCeo"
      },
      "outputs": [],
      "source": [
        "from google.colab import drive\n",
        "drive.mount('/content/drive')"
      ]
    },
    {
      "cell_type": "markdown",
      "source": [
        "## Import Required libraries"
      ],
      "metadata": {
        "id": "8oNFX6Z9tVNB"
      }
    },
    {
      "cell_type": "code",
      "source": [
        "!pip install quadprog"
      ],
      "metadata": {
        "id": "aqgGYYp71AGL"
      },
      "execution_count": null,
      "outputs": []
    },
    {
      "cell_type": "code",
      "source": [
        "import numpy as np\n",
        "import os\n",
        "import matplotlib.pyplot as plt\n",
        "import torch\n",
        "import torchvision\n",
        "import random\n",
        "import torch.nn as nn\n",
        "import math\n",
        "import quadprog\n",
        "\n",
        "import torch.nn.functional as F\n",
        "import torchvision.transforms as transforms\n",
        "import torch.optim as optim\n",
        "import torch.utils.data as data"
      ],
      "metadata": {
        "id": "m_9dNn8miytX"
      },
      "execution_count": null,
      "outputs": []
    },
    {
      "cell_type": "markdown",
      "source": [
        "## Learning parameters"
      ],
      "metadata": {
        "id": "9Ti3G7U5taUu"
      }
    },
    {
      "cell_type": "code",
      "source": [
        "num_classes = 10\n",
        "class_per_task = 2\n",
        "number_of_data_per_class = 3000\n",
        "num_tasks = int(num_classes // class_per_task)\n",
        "batch_size = 10\n",
        "memory_size_per_task = 10"
      ],
      "metadata": {
        "id": "17H45PaUstUI"
      },
      "execution_count": null,
      "outputs": []
    },
    {
      "cell_type": "markdown",
      "source": [
        "## Prepare dataset (5 points)"
      ],
      "metadata": {
        "id": "R0sdW7F8tcl1"
      }
    },
    {
      "cell_type": "markdown",
      "source": [
        "To compare different benchmarks fairly, define all of your dataloaders for each task and save them in an array."
      ],
      "metadata": {
        "id": "C-VMIe8CzWmI"
      }
    },
    {
      "cell_type": "code",
      "source": [
        "def get_all_dataloaders(num_classes, class_per_task, number_of_data_per_class, num_tasks):\n",
        "    #################################################################################\n",
        "    #                  COMPLETE THE FOLLOWING SECTION (2.5 points)                   #\n",
        "    #################################################################################\n",
        "    # complete the function to get all dataloaders for all tasks\n",
        "    pass\n",
        "    #################################################################################\n",
        "\n",
        "\n",
        "def get_testloader():\n",
        "    #################################################################################\n",
        "    #                  COMPLETE THE FOLLOWING SECTION (2.5 points)                   #\n",
        "    #################################################################################\n",
        "    # complete the function to get MNIST test dataloader\n",
        "    pass\n",
        "    #################################################################################"
      ],
      "metadata": {
        "id": "b-yOG-uxoaZ4"
      },
      "execution_count": null,
      "outputs": []
    },
    {
      "cell_type": "markdown",
      "source": [
        "## Network (5 points)"
      ],
      "metadata": {
        "id": "-1TiyGp71Lyv"
      }
    },
    {
      "cell_type": "code",
      "source": [
        "# define a 3 layer fc with relu activation functions between layers\n",
        "# your fc layers dimensions are as follows:\n",
        "# 784, 150, 150, 10\n",
        "\n",
        "\n",
        "#################################################################################\n",
        "#                  COMPLETE THE FOLLOWING SECTION (5 points)                   #\n",
        "#################################################################################\n",
        "# define above mentioned model and needed variables\n",
        "\n",
        "class FC(torch.nn.Module):\n",
        "    def __init__(self):\n",
        "        super(FC, self).__init__()   \n",
        "\n",
        "    def forward(self):\n",
        "        pass\n",
        "\n",
        "#################################################################################"
      ],
      "metadata": {
        "id": "n7CJ3Nrz1Y5t"
      },
      "execution_count": null,
      "outputs": []
    },
    {
      "cell_type": "markdown",
      "source": [
        "## Naive Learning (20 points)"
      ],
      "metadata": {
        "id": "Bvv-TsoHtmN-"
      }
    },
    {
      "cell_type": "markdown",
      "source": [
        "In this section, you will learn a network in its natural state, without considering any strategy for learning it continually. You will see that learning data in a such fashion causes a phenomenon called catastrophic forgetting.\n",
        "\n",
        "As `GEM` is a task-incremental method, like the paper, evaluate your trained model performance for each task and then report the average accuracy of tasks. In addition to Accuracy metric, report the `backward transfer` and `forward transfer` metric based on the defination in the paper."
      ],
      "metadata": {
        "id": "NdZlDuvLtnu-"
      }
    },
    {
      "cell_type": "code",
      "source": [
        "device = torch.device('cuda' if torch.cuda.is_available() else 'cpu')\n",
        "\n",
        "model = None\n",
        "criterion = None\n",
        "lr = None\n",
        "optimizer = None\n",
        "\n",
        "\n",
        "\n",
        "#################################################################################\n",
        "#                  COMPLETE THE FOLLOWING SECTION (20 points)                   #\n",
        "#################################################################################\n",
        "# complete code for sequentially training and then\n",
        "# evaluate your model with test data\n",
        "\n",
        "\n",
        "for i in range(num_tasks):\n",
        "    pass\n",
        "\n",
        "\n",
        "\n",
        "\n",
        "#################################################################################"
      ],
      "metadata": {
        "id": "HKL6_gTr2xAp"
      },
      "execution_count": null,
      "outputs": []
    },
    {
      "cell_type": "markdown",
      "source": [
        "## Continually Learning using GEM (50 points)"
      ],
      "metadata": {
        "id": "5YA2C_o3yjtx"
      }
    },
    {
      "cell_type": "markdown",
      "source": [
        "In this section, you will complete the codes for the GEM method using the beforementioned parameters. Read the procedure explained in the paper. We pre-defined some functions for you. Complete them and use them in training."
      ],
      "metadata": {
        "id": "rkC4g3etjb_9"
      }
    },
    {
      "cell_type": "code",
      "source": [
        "# define your main class for continually learning with GEM\n",
        "# define all needed variables and functions, all inside this class\n",
        "\n",
        "class GEM(torch.nn.Module):\n",
        "    def __init__(self):\n",
        "        super(GEM, self).__init__()   \n",
        "        #################################################################################\n",
        "        #                  COMPLETE THE FOLLOWING SECTION (5 points)                   #\n",
        "        #################################################################################\n",
        "        # define above mentioned model and needed variables\n",
        "        pass\n",
        "        #################################################################################\n",
        "\n",
        "    def calculate_past_classes_gradients(self):\n",
        "        #################################################################################\n",
        "        #                  COMPLETE THE FOLLOWING SECTION (10 points)                   #\n",
        "        #################################################################################\n",
        "        pass\n",
        "        #################################################################################\n",
        "\n",
        "    def calculate_current_task_gradients(self):\n",
        "        #################################################################################\n",
        "        #                  COMPLETE THE FOLLOWING SECTION (5 points)                    #\n",
        "        #################################################################################\n",
        "        pass\n",
        "        #################################################################################\n",
        "\n",
        "    def project_past_Classes_gradients(self):\n",
        "        #################################################################################\n",
        "        #                  COMPLETE THE FOLLOWING SECTION (15 points)                   #\n",
        "        #################################################################################\n",
        "        pass\n",
        "        #################################################################################\n",
        "\n",
        "\n",
        "    def update_memory(self):\n",
        "        #################################################################################\n",
        "        #                  COMPLETE THE FOLLOWING SECTION (5 points)                    #\n",
        "        #################################################################################\n",
        "        pass\n",
        "        #################################################################################\n",
        "\n",
        "    def forward(self):\n",
        "        pass"
      ],
      "metadata": {
        "id": "0KUEnCBkpRnE"
      },
      "execution_count": null,
      "outputs": []
    },
    {
      "cell_type": "code",
      "source": [
        "#################################################################################\n",
        "#                  COMPLETE THE FOLLOWING SECTION (10 points)                   #\n",
        "#################################################################################\n",
        "# complete code for gem training\n",
        "# evaluate your model with test data by reporting\n",
        "# accuracy, backward transfer and forward transfer metric\n",
        "# for all tasks\n",
        "\n",
        "learner = GEM()\n",
        "\n",
        "for i in range(num_tasks):\n",
        "    pass\n",
        "\n",
        "\n",
        "\n",
        "\n",
        "\n",
        "\n",
        "#################################################################################"
      ],
      "metadata": {
        "id": "cWLk0oSr6dlU"
      },
      "execution_count": null,
      "outputs": []
    },
    {
      "cell_type": "markdown",
      "source": [
        "## Explain the results (10 points)"
      ],
      "metadata": {
        "id": "Va8wXHAvoZtG"
      }
    },
    {
      "cell_type": "markdown",
      "source": [
        "Your Explain:"
      ],
      "metadata": {
        "id": "QvDqXPXRoewA"
      }
    }
  ]
}