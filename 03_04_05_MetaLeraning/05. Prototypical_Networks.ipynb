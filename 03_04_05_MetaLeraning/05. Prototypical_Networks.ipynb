{
  "nbformat": 4,
  "nbformat_minor": 0,
  "metadata": {
    "colab": {
      "name": "Prototypical_Networks.ipynb",
      "provenance": [],
      "collapsed_sections": [
        "Y5waCnFKujEg",
        "e9qYXwXMBK-I",
        "1UTznQWHt7U5",
        "fToDdmyMuG7q",
        "kdVk656OuRBk",
        "ZdIec9WkH7va",
        "-dJlPM13IARd",
        "H_TSSAA1z9p1"
      ],
      "toc_visible": true
    },
    "kernelspec": {
      "name": "python3",
      "display_name": "Python 3"
    },
    "language_info": {
      "name": "python"
    },
    "accelerator": "GPU"
  },
  "cells": [
    {
      "cell_type": "markdown",
      "source": [
        "# **Imports**"
      ],
      "metadata": {
        "id": "Y5waCnFKujEg"
      }
    },
    {
      "cell_type": "code",
      "execution_count": 86,
      "metadata": {
        "id": "GFvRsXmc_nn6"
      },
      "outputs": [],
      "source": [
        "import time\n",
        "import torch\n",
        "import torchvision\n",
        "import numpy as np\n",
        "import torch.nn as nn\n",
        "import matplotlib.pyplot as plt\n",
        "import torch.nn.functional as F\n",
        "import torchvision.transforms as T\n",
        "from torch.utils.data import ConcatDataset, Dataset, DataLoader"
      ]
    },
    {
      "cell_type": "markdown",
      "source": [
        "# **Data preparation**"
      ],
      "metadata": {
        "id": "e9qYXwXMBK-I"
      }
    },
    {
      "cell_type": "markdown",
      "source": [
        "## Download CIFAR100"
      ],
      "metadata": {
        "id": "1UTznQWHt7U5"
      }
    },
    {
      "cell_type": "code",
      "source": [
        "transform = T.Compose([\n",
        "                T.ToTensor(),\n",
        "                # T.Normalize((0.5, 0.5, 0.5), (0.5, 0.5, 0.5))\n",
        "            ])\n",
        "\n",
        "trainset = torchvision.datasets.CIFAR100('./', True, download=True, transform=transform)\n",
        "valset = torchvision.datasets.CIFAR100('./', False, download=True, transform=transform)\n",
        "dataset = ConcatDataset([trainset, valset])\n",
        "len(dataset)"
      ],
      "metadata": {
        "colab": {
          "base_uri": "https://localhost:8080/"
        },
        "id": "G7T3sUAd_w6_",
        "outputId": "09f007b0-5a46-46f6-c8e1-9ac2301cab81"
      },
      "execution_count": 99,
      "outputs": [
        {
          "output_type": "stream",
          "name": "stdout",
          "text": [
            "Files already downloaded and verified\n",
            "Files already downloaded and verified\n"
          ]
        },
        {
          "output_type": "execute_result",
          "data": {
            "text/plain": [
              "60000"
            ]
          },
          "metadata": {},
          "execution_count": 99
        }
      ]
    },
    {
      "cell_type": "code",
      "source": [
        "num_c_train, num_c_val, num_c_test = 70, 20, 10\n",
        "c_indices = np.arange(100)\n",
        "np.random.shuffle(c_indices)\n",
        "train_classes = c_indices[:num_c_train]\n",
        "val_classes = c_indices[num_c_train:num_c_train+num_c_val]\n",
        "test_classes = c_indices[-num_c_test:]\n",
        "\n",
        "len(train_classes), len(val_classes), len(test_classes)"
      ],
      "metadata": {
        "colab": {
          "base_uri": "https://localhost:8080/"
        },
        "id": "hw-hQcJeilsh",
        "outputId": "abf075d0-9fcf-4559-d493-e4fcd512f783"
      },
      "execution_count": 100,
      "outputs": [
        {
          "output_type": "execute_result",
          "data": {
            "text/plain": [
              "(70, 20, 10)"
            ]
          },
          "metadata": {},
          "execution_count": 100
        }
      ]
    },
    {
      "cell_type": "markdown",
      "source": [
        "## Split CIFAR100 into meta-train, meta-validation and meta-test"
      ],
      "metadata": {
        "id": "fToDdmyMuG7q"
      }
    },
    {
      "cell_type": "code",
      "source": [
        "train_data, val_data, test_data = [], [], []\n",
        "for image, label in dataset:\n",
        "    if label in test_classes:\n",
        "        test_data.append((image, label))\n",
        "    elif label in val_classes:\n",
        "        val_data.append((image, label))\n",
        "    else:\n",
        "        train_data.append((image, label))\n",
        "        \n",
        "train_data = sorted(train_data, key=lambda x: x[1])\n",
        "val_data = sorted(val_data, key=lambda x: x[1])\n",
        "test_data = sorted(test_data, key=lambda x: x[1])\n",
        "train_classes = np.sort(train_classes)\n",
        "val_classes = np.sort(val_classes)\n",
        "test_classes = np.sort(test_classes)\n",
        "\n",
        "len(train_data), len(val_data), len(test_data)"
      ],
      "metadata": {
        "colab": {
          "base_uri": "https://localhost:8080/"
        },
        "id": "-fMHxUtqlrHL",
        "outputId": "16707373-4072-480d-d1c3-835da60a7727"
      },
      "execution_count": 101,
      "outputs": [
        {
          "output_type": "execute_result",
          "data": {
            "text/plain": [
              "(42000, 12000, 6000)"
            ]
          },
          "metadata": {},
          "execution_count": 101
        }
      ]
    },
    {
      "cell_type": "code",
      "source": [
        "class CifarMeta(Dataset):\n",
        "    def __init__(self, data, c_indices):\n",
        "        self.data = data\n",
        "        self.new_indices_dic = {idx:i for i, idx in enumerate(c_indices)}\n",
        "        self.num_classes = len(c_indices)\n",
        "\n",
        "    def __len__(self):\n",
        "        return len(self.data)\n",
        "\n",
        "    def __getitem__(self, idx):\n",
        "        image, label = self.data[idx]\n",
        "        new_label = self.new_indices_dic[label]\n",
        "        return image, new_label"
      ],
      "metadata": {
        "id": "pe7d2N9yAcwD"
      },
      "execution_count": 102,
      "outputs": []
    },
    {
      "cell_type": "code",
      "source": [
        "trainset = CifarMeta(train_data, train_classes)\n",
        "valset = CifarMeta(val_data, val_classes)\n",
        "testset = CifarMeta(test_data, test_classes)"
      ],
      "metadata": {
        "id": "QzdX00iHg46W"
      },
      "execution_count": 103,
      "outputs": []
    },
    {
      "cell_type": "code",
      "source": [
        "fig = plt.figure(figsize=(15, 9))\n",
        "\n",
        "for i in range(5):\n",
        "    ax = plt.subplot(3, 5, i+1)\n",
        "    image, label = trainset[np.random.randint(0, len(trainset))]                                         \n",
        "    ax.imshow(image.permute(1, 2, 0))\n",
        "    ax.set_title('Train - Class {}'.format(label))\n",
        "    ax.axis('off')\n",
        "\n",
        "for i in range(5):\n",
        "    ax = plt.subplot(3, 5, i+6)\n",
        "    image, label = valset[np.random.randint(0, len(valset))]                                         \n",
        "    ax.imshow(image.permute(1, 2, 0))\n",
        "    ax.set_title('Validation - Class {}'.format(label))\n",
        "    ax.axis('off')\n",
        "\n",
        "for i in range(5):\n",
        "    ax = plt.subplot(3, 5, i+11)\n",
        "    image, label = testset[np.random.randint(0, len(testset))]                                         \n",
        "    ax.imshow(image.permute(1, 2, 0))\n",
        "    ax.set_title('Test - Class {}'.format(label))\n",
        "    ax.axis('off')\n"
      ],
      "metadata": {
        "id": "BaFtcED5hAO_",
        "colab": {
          "base_uri": "https://localhost:8080/",
          "height": 0
        },
        "outputId": "ab3f9996-04d3-4841-f756-971d31d9e8b3"
      },
      "execution_count": 104,
      "outputs": [
        {
          "output_type": "display_data",
          "data": {
            "text/plain": [
              "<Figure size 1080x648 with 15 Axes>"
            ],
            "image/png": "[encoded data removed]"
          },
          "metadata": {
            "needs_background": "light"
          }
        }
      ]
    },
    {
      "cell_type": "markdown",
      "source": [
        "## Create batch sampler"
      ],
      "metadata": {
        "id": "kdVk656OuRBk"
      }
    },
    {
      "cell_type": "code",
      "source": [
        "class BatchSampler():\n",
        "\n",
        "    def __init__(self, iters, dataset, ways, shots, batch_size=1, per_class=600):\n",
        "        self.iters = iters\n",
        "        self.dataset = dataset\n",
        "        self.ways = ways\n",
        "        self.shots = shots\n",
        "        self.per_class = per_class\n",
        "        self.batch_size = batch_size\n",
        "\n",
        "    def __iter__(self):\n",
        "        for it in range(self.iters):\n",
        "            support = np.array([])\n",
        "            query = np.array([])\n",
        "            total_classes = self.dataset.num_classes\n",
        "            indices = np.arange(total_classes)\n",
        "            chosen_classes = np.random.choice(indices, size=self.ways, replace=False)\n",
        "            for cc in chosen_classes:\n",
        "                begin = cc * self.per_class\n",
        "                end = begin + self.per_class\n",
        "                support_query = np.random.choice(np.arange(begin, end), size=self.shots*2, replace=False)\n",
        "                support = np.concatenate([support, support_query[:self.shots]])\n",
        "                query = np.concatenate([query, support_query[self.shots:]])\n",
        "            total_batch_indexes = np.concatenate([support, query])\n",
        "            yield total_batch_indexes.astype(int)\n",
        "\n",
        "    def __len__(self):\n",
        "        return self.iters"
      ],
      "metadata": {
        "id": "GDbIJFIutgBu"
      },
      "execution_count": 105,
      "outputs": []
    },
    {
      "cell_type": "markdown",
      "source": [
        "# **Model Definition**"
      ],
      "metadata": {
        "id": "X3oy41zztaKF"
      }
    },
    {
      "cell_type": "markdown",
      "source": [
        "## ProtoNetBack"
      ],
      "metadata": {
        "id": "ZdIec9WkH7va"
      }
    },
    {
      "cell_type": "code",
      "source": [
        "def conv_block(in_channels, out_channels):\n",
        "    '''\n",
        "    returns a block conv-bn-relu-pool\n",
        "    '''\n",
        "    return nn.Sequential(\n",
        "        nn.Conv2d(in_channels, out_channels, 3, padding=1),\n",
        "        nn.BatchNorm2d(out_channels),\n",
        "        nn.ReLU(),\n",
        "        nn.MaxPool2d(2)\n",
        "    )\n",
        "\n",
        "\n",
        "class ProtoNetBack(nn.Module):\n",
        "    def __init__(self, input_channels = 1):\n",
        "        super(ProtoNetBack, self).__init__()\n",
        "        self.layers = nn.Sequential(\n",
        "            nn.Conv2d(input_channels, 64, 1),\n",
        "            conv_block(64, 64),\n",
        "            conv_block(64, 64),\n",
        "            conv_block(64, 64),\n",
        "            conv_block(64, 64),\n",
        "        )\n",
        "\n",
        "    def get_embedding_size(self, input_size = (1,28,28)):\n",
        "        device = next(self.parameters()).device\n",
        "        x = torch.rand([2,*input_size]).to(device)\n",
        "        with torch.no_grad():\n",
        "            output = self.forward(x)\n",
        "            emb_size = output.shape[-1]\n",
        "        \n",
        "        del x,output\n",
        "        torch.cuda.empty_cache()\n",
        "\n",
        "        return emb_size\n",
        "\n",
        "    def forward(self, x):\n",
        "        return self.layers (x).reshape ([x.shape[0] , -1])"
      ],
      "metadata": {
        "id": "KnIH_0Joqf-w"
      },
      "execution_count": 82,
      "outputs": []
    },
    {
      "cell_type": "markdown",
      "source": [
        "## Model"
      ],
      "metadata": {
        "id": "-dJlPM13IARd"
      }
    },
    {
      "cell_type": "code",
      "source": [
        "class EmbeddingFunction(nn.Module):\n",
        "\n",
        "    def __init__(self, inshape, M):\n",
        "        super(EmbeddingFunction, self).__init__()\n",
        "        input_channels = inshape[0]\n",
        "        self.M = M\n",
        "        \n",
        "        self.p_back = ProtoNetBack(input_channels)\n",
        "        D = self.p_back.get_embedding_size(inshape)\n",
        "        self.fc1 = nn.Linear(D, 128)\n",
        "        self.fc2 = nn.Linear(128, M)\n",
        "\n",
        "    def __compute_distance(self, x, c):\n",
        "        t1 = (x ** 2).sum(dim=1).view((-1, 1))\n",
        "        t2 = (c ** 2).sum(dim=1).view((1, -1))\n",
        "        t3 = 2 * (x @ c.T)\n",
        "        dist_mat = t1 + t2 - t3\n",
        "        return dist_mat\n",
        "\n",
        "    def forward(self, x, n, k):\n",
        "        l = n * k\n",
        "        x = self.p_back(x)\n",
        "        x = F.relu(x, inplace=True)\n",
        "        x = self.fc1(x)\n",
        "        x = F.relu(x, inplace=True)\n",
        "        embeddings = self.fc2(x)                                                # embeddings: (2L, M)\n",
        "\n",
        "        support_embeddings = embeddings[:l, :]                                  # support: (L, M)\n",
        "        query_embeddings = embeddings[l:, :]                                    # query: (L, M)\n",
        "        centroids = support_embeddings.reshape((n, k, self.M))                  # centroids: (N, K, M)\n",
        "        centroids = centroids.mean(dim=1)                                       # centroids: (N, M) \n",
        "\n",
        "        dist_mat = self.__compute_distance(query_embeddings, centroids)         # dist_mat: (L, N) \n",
        "        return -dist_mat"
      ],
      "metadata": {
        "id": "wNBpI67FICvs"
      },
      "execution_count": 124,
      "outputs": []
    },
    {
      "cell_type": "markdown",
      "source": [
        "# **Train**"
      ],
      "metadata": {
        "id": "3na1n6vrLdcH"
      }
    },
    {
      "cell_type": "code",
      "source": [
        "def train(train_ways, train_shots, test_ways, test_shots, epochs=1):\n",
        "\n",
        "    # GPU or CPU\n",
        "    device = torch.device('cuda' if torch.cuda.is_available() else 'cpu')\n",
        "    print('Device: {}'.format(device))\n",
        "\n",
        "    # Dataloaders\n",
        "    train_iters = 1000\n",
        "    val_iters = 100\n",
        "    trainloader = DataLoader(trainset, batch_sampler=BatchSampler(train_iters, trainset, train_ways, train_shots))\n",
        "    valloader = DataLoader(valset, batch_sampler=BatchSampler(val_iters, valset, test_ways, test_shots))\n",
        "\n",
        "    # Hyperparams and model definition\n",
        "    lr = 1e-3\n",
        "    M = 128\n",
        "    net = EmbeddingFunction((3, 32, 32), M).to(device)\n",
        "    optimizer = torch.optim.Adam(net.parameters(), lr=lr)\n",
        "\n",
        "    # Begin training\n",
        "    net.train()\n",
        "    print('Number of iterations in each epoch: {}'.format(len(trainloader)))\n",
        "    print('Number of validation iterations: {}'.format(len(valloader)))\n",
        "    print('Training started ...')\n",
        "    epoch_train_loss = 0.0\n",
        "    epoch_train_acc = 0.0\n",
        "    epoch_count = 0.0\n",
        "    log_every_iter = 50\n",
        "    \n",
        "    for epoch in range(epochs):\n",
        "\n",
        "        running_loss = 0.0\n",
        "        running_lp_fraction = 0.0\n",
        "        running_accuracy = 0.0\n",
        "        tick = time.time()\n",
        "        t = time.time()\n",
        "\n",
        "        # ======================================================================\n",
        "        # Train\n",
        "        net.train()\n",
        "        for i, data in enumerate(trainloader, 0):\n",
        "            \n",
        "            overhead_duration = time.time() - t\n",
        "            t = time.time()\n",
        "\n",
        "            inputs, _ = data\n",
        "            labels = torch.repeat_interleave(torch.arange(train_ways), train_shots)\n",
        "            inputs = inputs.to(device)\n",
        "            labels = labels.to(device)\n",
        "\n",
        "            outputs = net(inputs, train_ways, train_shots)\n",
        "            loss = F.cross_entropy(outputs, labels)\n",
        "\n",
        "            optimizer.zero_grad()\n",
        "            loss.backward()\n",
        "            optimizer.step()\n",
        "            preds = torch.argmax(outputs, axis=1)\n",
        "            acc = ((preds == labels) * 1.0).mean()\n",
        "\n",
        "            running_loss += loss.item()\n",
        "            running_accuracy += acc.item()\n",
        "            epoch_train_loss += loss.item() * inputs.shape[0]\n",
        "            epoch_train_acc += acc.item() * inputs.shape[0]\n",
        "            epoch_count += inputs.shape[0]\n",
        "\n",
        "            processing_duration = time.time() - t\n",
        "            t = time.time()\n",
        "            running_lp_fraction += overhead_duration / processing_duration\n",
        "\n",
        "            if i % log_every_iter == log_every_iter - 1:\n",
        "                tock = time.time()\n",
        "                print(f'[{epoch + 1}, {i + 1:5d}] loss: {running_loss / log_every_iter:.3f}, \\\n",
        "                        accuracy = {running_accuracy / log_every_iter:.4f}')\n",
        "                tick = time.time()\n",
        "                running_loss = 0.0\n",
        "                running_lp_fraction = 0.0\n",
        "                running_accuracy = 0.0\n",
        "        \n",
        "        # ======================================================================\n",
        "        # Eval\n",
        "        print('------------- Validation -------------')\n",
        "        net.eval()\n",
        "        running_accuracy = 0.0\n",
        "        for i, data in enumerate(valloader, 0):\n",
        "            inputs, _ = data\n",
        "            labels = torch.repeat_interleave(torch.arange(test_ways), test_shots)\n",
        "            inputs = inputs.to(device)\n",
        "            labels = labels.to(device)\n",
        "            outputs = net(inputs, test_ways, test_shots)\n",
        "            preds = torch.argmax(outputs, axis=1)\n",
        "            acc = ((preds == labels) * 1.0).mean()\n",
        "            running_accuracy += acc.item()\n",
        "        print(f'Validation accuracy: {running_accuracy / len(valloader)}')\n",
        "\n",
        "    return net"
      ],
      "metadata": {
        "id": "QJQmyOSXKRKt"
      },
      "execution_count": 137,
      "outputs": []
    },
    {
      "cell_type": "code",
      "source": [
        "def test(net, test_ways, test_shots):\n",
        "    print('------------- Evaluation on test data -------------')\n",
        "    device = torch.device('cuda' if torch.cuda.is_available() else 'cpu')\n",
        "    test_iters = 100\n",
        "    testloader = DataLoader(testset, batch_sampler=BatchSampler(test_iters, testset, test_ways, test_shots))\n",
        "    net.eval()\n",
        "    running_accuracy = 0.0\n",
        "    for i, data in enumerate(testloader, 0):\n",
        "        inputs, _ = data\n",
        "        labels = torch.repeat_interleave(torch.arange(test_ways), test_shots)\n",
        "        inputs = inputs.to(device)\n",
        "        labels = labels.to(device)\n",
        "        outputs = net(inputs, test_ways, test_shots)\n",
        "        preds = torch.argmax(outputs, axis=1)\n",
        "        acc = ((preds == labels) * 1.0).mean()\n",
        "        running_accuracy += acc.item()\n",
        "    acc = running_accuracy / len(testloader)\n",
        "    print(f'Test accuracy: {acc}')\n",
        "    return acc"
      ],
      "metadata": {
        "id": "oQyHF0vwHExh"
      },
      "execution_count": 138,
      "outputs": []
    },
    {
      "cell_type": "markdown",
      "source": [
        "## Part A"
      ],
      "metadata": {
        "id": "H_TSSAA1z9p1"
      }
    },
    {
      "cell_type": "code",
      "source": [
        "net = train(10, 8, 10, 8, 3)\n",
        "acc = test(net, 10, 8)"
      ],
      "metadata": {
        "id": "42LdqusCMq4G",
        "colab": {
          "base_uri": "https://localhost:8080/"
        },
        "outputId": "a34b6461-b995-4861-dd39-9d2fdfd940d7"
      },
      "execution_count": 140,
      "outputs": [
        {
          "output_type": "stream",
          "name": "stdout",
          "text": [
            "Device: cuda\n",
            "Number of iterations in each epoch: 1000\n",
            "Number of validation iterations: 100\n",
            "Training started ...\n",
            "[1,    50] loss: 1.863,                         accuracy = 0.3418\n",
            "[1,   100] loss: 1.820,                         accuracy = 0.3603\n",
            "[1,   150] loss: 1.704,                         accuracy = 0.3988\n",
            "[1,   200] loss: 1.716,                         accuracy = 0.4010\n",
            "[1,   250] loss: 1.607,                         accuracy = 0.4358\n",
            "[1,   300] loss: 1.558,                         accuracy = 0.4490\n",
            "[1,   350] loss: 1.583,                         accuracy = 0.4460\n",
            "[1,   400] loss: 1.500,                         accuracy = 0.4815\n",
            "[1,   450] loss: 1.528,                         accuracy = 0.4598\n",
            "[1,   500] loss: 1.469,                         accuracy = 0.4860\n",
            "[1,   550] loss: 1.432,                         accuracy = 0.4970\n",
            "[1,   600] loss: 1.443,                         accuracy = 0.4865\n",
            "[1,   650] loss: 1.382,                         accuracy = 0.5295\n",
            "[1,   700] loss: 1.356,                         accuracy = 0.5305\n",
            "[1,   750] loss: 1.337,                         accuracy = 0.5400\n",
            "[1,   800] loss: 1.321,                         accuracy = 0.5408\n",
            "[1,   850] loss: 1.255,                         accuracy = 0.5570\n",
            "[1,   900] loss: 1.300,                         accuracy = 0.5453\n",
            "[1,   950] loss: 1.256,                         accuracy = 0.5648\n",
            "[1,  1000] loss: 1.257,                         accuracy = 0.5680\n",
            "------------- Validation -------------\n",
            "Validation accuracy: 0.509125008881092\n",
            "[2,    50] loss: 1.262,                         accuracy = 0.5615\n",
            "[2,   100] loss: 1.262,                         accuracy = 0.5570\n",
            "[2,   150] loss: 1.222,                         accuracy = 0.5690\n",
            "[2,   200] loss: 1.129,                         accuracy = 0.6058\n",
            "[2,   250] loss: 1.180,                         accuracy = 0.5868\n",
            "[2,   300] loss: 1.167,                         accuracy = 0.5930\n",
            "[2,   350] loss: 1.096,                         accuracy = 0.6178\n",
            "[2,   400] loss: 1.082,                         accuracy = 0.6145\n",
            "[2,   450] loss: 1.107,                         accuracy = 0.6070\n",
            "[2,   500] loss: 1.125,                         accuracy = 0.6168\n",
            "[2,   550] loss: 1.074,                         accuracy = 0.6218\n",
            "[2,   600] loss: 1.101,                         accuracy = 0.6048\n",
            "[2,   650] loss: 1.101,                         accuracy = 0.6195\n",
            "[2,   700] loss: 1.005,                         accuracy = 0.6408\n",
            "[2,   750] loss: 1.047,                         accuracy = 0.6323\n",
            "[2,   800] loss: 1.072,                         accuracy = 0.6288\n",
            "[2,   850] loss: 0.975,                         accuracy = 0.6595\n",
            "[2,   900] loss: 1.016,                         accuracy = 0.6458\n",
            "[2,   950] loss: 1.046,                         accuracy = 0.6373\n",
            "[2,  1000] loss: 0.955,                         accuracy = 0.6650\n",
            "------------- Validation -------------\n",
            "Validation accuracy: 0.5370000118017196\n",
            "[3,    50] loss: 1.008,                         accuracy = 0.6420\n",
            "[3,   100] loss: 1.019,                         accuracy = 0.6448\n",
            "[3,   150] loss: 0.973,                         accuracy = 0.6585\n",
            "[3,   200] loss: 0.936,                         accuracy = 0.6788\n",
            "[3,   250] loss: 0.988,                         accuracy = 0.6620\n",
            "[3,   300] loss: 0.940,                         accuracy = 0.6665\n",
            "[3,   350] loss: 0.965,                         accuracy = 0.6620\n",
            "[3,   400] loss: 0.976,                         accuracy = 0.6598\n",
            "[3,   450] loss: 0.945,                         accuracy = 0.6713\n",
            "[3,   500] loss: 0.935,                         accuracy = 0.6755\n",
            "[3,   550] loss: 0.874,                         accuracy = 0.6983\n",
            "[3,   600] loss: 0.912,                         accuracy = 0.6748\n",
            "[3,   650] loss: 0.943,                         accuracy = 0.6675\n",
            "[3,   700] loss: 0.930,                         accuracy = 0.6725\n",
            "[3,   750] loss: 0.943,                         accuracy = 0.6725\n",
            "[3,   800] loss: 0.906,                         accuracy = 0.6820\n",
            "[3,   850] loss: 0.876,                         accuracy = 0.6940\n",
            "[3,   900] loss: 0.878,                         accuracy = 0.6868\n",
            "[3,   950] loss: 0.890,                         accuracy = 0.6853\n",
            "[3,  1000] loss: 0.865,                         accuracy = 0.6978\n",
            "------------- Validation -------------\n",
            "Validation accuracy: 0.5475000110268593\n",
            "------------- Evaluation on test data -------------\n",
            "Test accuracy: 0.551125011742115\n"
          ]
        }
      ]
    },
    {
      "cell_type": "code",
      "source": [
        "print(f'Test accuracy is: {acc}')"
      ],
      "metadata": {
        "colab": {
          "base_uri": "https://localhost:8080/"
        },
        "id": "ZLg-xOwA0Vzx",
        "outputId": "bc34d9b6-1b83-46b5-a22d-f975e9fb011d"
      },
      "execution_count": 142,
      "outputs": [
        {
          "output_type": "stream",
          "name": "stdout",
          "text": [
            "Test accuracy is: 0.551125011742115\n"
          ]
        }
      ]
    },
    {
      "cell_type": "markdown",
      "source": [
        "## Part B"
      ],
      "metadata": {
        "id": "fq2cUTXl0dZx"
      }
    },
    {
      "cell_type": "code",
      "source": [
        "ways = 10\n",
        "all_shots = [1, 2, 4, 8, 16]\n",
        "accuracies = []\n",
        "for shots in all_shots:\n",
        "    print(f'============================== {ways} ways, {shots} shots ==============================')\n",
        "    net = train(ways, shots, ways, shots, 3)\n",
        "    acc = test(net, ways, shots)\n",
        "    accuracies.append(acc)"
      ],
      "metadata": {
        "colab": {
          "base_uri": "https://localhost:8080/"
        },
        "id": "d7RnE0lF0h-h",
        "outputId": "383bcc03-3104-4da0-d04e-e11e655fc0e5"
      },
      "execution_count": 143,
      "outputs": [
        {
          "output_type": "stream",
          "name": "stdout",
          "text": [
            "============================== 10 ways, 1 shots ==============================\n",
            "Device: cuda\n",
            "Number of iterations in each epoch: 1000\n",
            "Number of validation iterations: 100\n",
            "Training started ...\n",
            "[1,    50] loss: 2.344,                         accuracy = 0.1860\n",
            "[1,   100] loss: 2.238,                         accuracy = 0.1720\n",
            "[1,   150] loss: 2.238,                         accuracy = 0.2180\n",
            "[1,   200] loss: 2.211,                         accuracy = 0.1980\n",
            "[1,   250] loss: 2.206,                         accuracy = 0.2140\n",
            "[1,   300] loss: 2.193,                         accuracy = 0.2040\n",
            "[1,   350] loss: 2.188,                         accuracy = 0.2120\n",
            "[1,   400] loss: 2.190,                         accuracy = 0.2120\n",
            "[1,   450] loss: 2.181,                         accuracy = 0.2000\n",
            "[1,   500] loss: 2.172,                         accuracy = 0.2200\n",
            "[1,   550] loss: 2.195,                         accuracy = 0.2060\n",
            "[1,   600] loss: 2.168,                         accuracy = 0.2200\n",
            "[1,   650] loss: 2.173,                         accuracy = 0.2080\n",
            "[1,   700] loss: 2.116,                         accuracy = 0.2620\n",
            "[1,   750] loss: 2.129,                         accuracy = 0.2500\n",
            "[1,   800] loss: 2.135,                         accuracy = 0.2120\n",
            "[1,   850] loss: 2.171,                         accuracy = 0.2100\n",
            "[1,   900] loss: 2.168,                         accuracy = 0.2080\n",
            "[1,   950] loss: 2.127,                         accuracy = 0.2420\n",
            "[1,  1000] loss: 2.141,                         accuracy = 0.2200\n",
            "------------- Validation -------------\n",
            "Validation accuracy: 0.25200000539422035\n",
            "[2,    50] loss: 2.169,                         accuracy = 0.2340\n",
            "[2,   100] loss: 2.098,                         accuracy = 0.2480\n",
            "[2,   150] loss: 2.132,                         accuracy = 0.2380\n",
            "[2,   200] loss: 2.117,                         accuracy = 0.2520\n",
            "[2,   250] loss: 2.088,                         accuracy = 0.2740\n",
            "[2,   300] loss: 2.127,                         accuracy = 0.2300\n",
            "[2,   350] loss: 2.176,                         accuracy = 0.2300\n",
            "[2,   400] loss: 2.077,                         accuracy = 0.2420\n",
            "[2,   450] loss: 2.054,                         accuracy = 0.2660\n",
            "[2,   500] loss: 2.123,                         accuracy = 0.2480\n",
            "[2,   550] loss: 2.096,                         accuracy = 0.2360\n",
            "[2,   600] loss: 2.056,                         accuracy = 0.2720\n",
            "[2,   650] loss: 2.063,                         accuracy = 0.2500\n",
            "[2,   700] loss: 2.097,                         accuracy = 0.2960\n",
            "[2,   750] loss: 2.115,                         accuracy = 0.2700\n",
            "[2,   800] loss: 2.043,                         accuracy = 0.2680\n",
            "[2,   850] loss: 2.096,                         accuracy = 0.2440\n",
            "[2,   900] loss: 2.095,                         accuracy = 0.2240\n",
            "[2,   950] loss: 2.041,                         accuracy = 0.2620\n",
            "[2,  1000] loss: 2.077,                         accuracy = 0.2620\n",
            "------------- Validation -------------\n",
            "Validation accuracy: 0.28900000631809236\n",
            "[3,    50] loss: 2.078,                         accuracy = 0.2640\n",
            "[3,   100] loss: 2.081,                         accuracy = 0.2680\n",
            "[3,   150] loss: 2.072,                         accuracy = 0.2760\n",
            "[3,   200] loss: 2.061,                         accuracy = 0.2720\n",
            "[3,   250] loss: 2.074,                         accuracy = 0.2660\n",
            "[3,   300] loss: 2.029,                         accuracy = 0.2680\n",
            "[3,   350] loss: 2.036,                         accuracy = 0.2700\n",
            "[3,   400] loss: 2.001,                         accuracy = 0.2740\n",
            "[3,   450] loss: 2.001,                         accuracy = 0.2920\n",
            "[3,   500] loss: 2.168,                         accuracy = 0.2300\n",
            "[3,   550] loss: 2.049,                         accuracy = 0.2620\n",
            "[3,   600] loss: 2.088,                         accuracy = 0.2240\n",
            "[3,   650] loss: 2.041,                         accuracy = 0.2560\n",
            "[3,   700] loss: 2.041,                         accuracy = 0.2900\n",
            "[3,   750] loss: 2.097,                         accuracy = 0.2460\n",
            "[3,   800] loss: 1.976,                         accuracy = 0.2520\n",
            "[3,   850] loss: 2.037,                         accuracy = 0.2440\n",
            "[3,   900] loss: 2.077,                         accuracy = 0.2500\n",
            "[3,   950] loss: 2.073,                         accuracy = 0.2460\n",
            "[3,  1000] loss: 2.067,                         accuracy = 0.2240\n",
            "------------- Validation -------------\n",
            "Validation accuracy: 0.27300000593066215\n",
            "------------- Evaluation on test data -------------\n",
            "Test accuracy: 0.193000004068017\n",
            "============================== 10 ways, 2 shots ==============================\n",
            "Device: cuda\n",
            "Number of iterations in each epoch: 1000\n",
            "Number of validation iterations: 100\n",
            "Training started ...\n",
            "[1,    50] loss: 2.164,                         accuracy = 0.2480\n",
            "[1,   100] loss: 2.159,                         accuracy = 0.2300\n",
            "[1,   150] loss: 2.049,                         accuracy = 0.2430\n",
            "[1,   200] loss: 2.101,                         accuracy = 0.2620\n",
            "[1,   250] loss: 2.100,                         accuracy = 0.2390\n",
            "[1,   300] loss: 2.080,                         accuracy = 0.2710\n",
            "[1,   350] loss: 2.080,                         accuracy = 0.2970\n",
            "[1,   400] loss: 2.027,                         accuracy = 0.2760\n",
            "[1,   450] loss: 2.055,                         accuracy = 0.2620\n",
            "[1,   500] loss: 2.004,                         accuracy = 0.2890\n",
            "[1,   550] loss: 1.953,                         accuracy = 0.3140\n",
            "[1,   600] loss: 1.934,                         accuracy = 0.3020\n",
            "[1,   650] loss: 2.010,                         accuracy = 0.2820\n",
            "[1,   700] loss: 1.985,                         accuracy = 0.2990\n",
            "[1,   750] loss: 1.908,                         accuracy = 0.3330\n",
            "[1,   800] loss: 1.981,                         accuracy = 0.2910\n",
            "[1,   850] loss: 1.984,                         accuracy = 0.3110\n",
            "[1,   900] loss: 1.912,                         accuracy = 0.2970\n",
            "[1,   950] loss: 1.930,                         accuracy = 0.3130\n",
            "[1,  1000] loss: 1.911,                         accuracy = 0.3310\n",
            "------------- Validation -------------\n",
            "Validation accuracy: 0.312000004388392\n",
            "[2,    50] loss: 1.901,                         accuracy = 0.3300\n",
            "[2,   100] loss: 1.830,                         accuracy = 0.3550\n",
            "[2,   150] loss: 1.953,                         accuracy = 0.3030\n",
            "[2,   200] loss: 1.903,                         accuracy = 0.3330\n",
            "[2,   250] loss: 1.903,                         accuracy = 0.3170\n",
            "[2,   300] loss: 1.822,                         accuracy = 0.3490\n",
            "[2,   350] loss: 1.850,                         accuracy = 0.3340\n",
            "[2,   400] loss: 1.852,                         accuracy = 0.3390\n",
            "[2,   450] loss: 1.847,                         accuracy = 0.3230\n",
            "[2,   500] loss: 1.877,                         accuracy = 0.3190\n",
            "[2,   550] loss: 1.826,                         accuracy = 0.3400\n",
            "[2,   600] loss: 1.783,                         accuracy = 0.3810\n",
            "[2,   650] loss: 1.822,                         accuracy = 0.3480\n",
            "[2,   700] loss: 1.875,                         accuracy = 0.3330\n",
            "[2,   750] loss: 1.870,                         accuracy = 0.3290\n",
            "[2,   800] loss: 1.807,                         accuracy = 0.3600\n",
            "[2,   850] loss: 1.806,                         accuracy = 0.3510\n",
            "[2,   900] loss: 1.780,                         accuracy = 0.3680\n",
            "[2,   950] loss: 1.796,                         accuracy = 0.3600\n",
            "[2,  1000] loss: 1.747,                         accuracy = 0.3830\n",
            "------------- Validation -------------\n",
            "Validation accuracy: 0.34050000451505186\n",
            "[3,    50] loss: 1.735,                         accuracy = 0.3830\n",
            "[3,   100] loss: 1.886,                         accuracy = 0.3070\n",
            "[3,   150] loss: 1.807,                         accuracy = 0.3780\n",
            "[3,   200] loss: 1.793,                         accuracy = 0.3710\n",
            "[3,   250] loss: 1.822,                         accuracy = 0.3480\n",
            "[3,   300] loss: 1.755,                         accuracy = 0.3660\n",
            "[3,   350] loss: 1.757,                         accuracy = 0.3710\n",
            "[3,   400] loss: 1.703,                         accuracy = 0.3940\n",
            "[3,   450] loss: 1.773,                         accuracy = 0.3510\n",
            "[3,   500] loss: 1.749,                         accuracy = 0.3880\n",
            "[3,   550] loss: 1.669,                         accuracy = 0.3890\n",
            "[3,   600] loss: 1.757,                         accuracy = 0.3680\n",
            "[3,   650] loss: 1.778,                         accuracy = 0.3740\n",
            "[3,   700] loss: 1.700,                         accuracy = 0.3970\n",
            "[3,   750] loss: 1.726,                         accuracy = 0.3770\n",
            "[3,   800] loss: 1.684,                         accuracy = 0.3940\n",
            "[3,   850] loss: 1.691,                         accuracy = 0.4040\n",
            "[3,   900] loss: 1.743,                         accuracy = 0.3930\n",
            "[3,   950] loss: 1.722,                         accuracy = 0.3820\n",
            "[3,  1000] loss: 1.644,                         accuracy = 0.4020\n",
            "------------- Validation -------------\n",
            "Validation accuracy: 0.36300000477582217\n",
            "------------- Evaluation on test data -------------\n",
            "Test accuracy: 0.31200000412762163\n",
            "============================== 10 ways, 4 shots ==============================\n",
            "Device: cuda\n",
            "Number of iterations in each epoch: 1000\n",
            "Number of validation iterations: 100\n",
            "Training started ...\n",
            "[1,    50] loss: 2.049,                         accuracy = 0.2810\n",
            "[1,   100] loss: 1.931,                         accuracy = 0.3330\n",
            "[1,   150] loss: 1.909,                         accuracy = 0.3440\n",
            "[1,   200] loss: 1.802,                         accuracy = 0.3645\n",
            "[1,   250] loss: 1.858,                         accuracy = 0.3455\n",
            "[1,   300] loss: 1.820,                         accuracy = 0.3525\n",
            "[1,   350] loss: 1.783,                         accuracy = 0.3570\n",
            "[1,   400] loss: 1.810,                         accuracy = 0.3560\n",
            "[1,   450] loss: 1.746,                         accuracy = 0.3910\n",
            "[1,   500] loss: 1.803,                         accuracy = 0.3530\n",
            "[1,   550] loss: 1.761,                         accuracy = 0.3775\n",
            "[1,   600] loss: 1.657,                         accuracy = 0.4020\n",
            "[1,   650] loss: 1.708,                         accuracy = 0.3905\n",
            "[1,   700] loss: 1.616,                         accuracy = 0.4250\n",
            "[1,   750] loss: 1.579,                         accuracy = 0.4570\n",
            "[1,   800] loss: 1.630,                         accuracy = 0.4270\n",
            "[1,   850] loss: 1.646,                         accuracy = 0.4105\n",
            "[1,   900] loss: 1.546,                         accuracy = 0.4570\n",
            "[1,   950] loss: 1.563,                         accuracy = 0.4610\n",
            "[1,  1000] loss: 1.545,                         accuracy = 0.4390\n",
            "------------- Validation -------------\n",
            "Validation accuracy: 0.4040000057220459\n",
            "[2,    50] loss: 1.554,                         accuracy = 0.4585\n",
            "[2,   100] loss: 1.523,                         accuracy = 0.4540\n",
            "[2,   150] loss: 1.528,                         accuracy = 0.4675\n",
            "[2,   200] loss: 1.471,                         accuracy = 0.4785\n",
            "[2,   250] loss: 1.551,                         accuracy = 0.4540\n",
            "[2,   300] loss: 1.491,                         accuracy = 0.4725\n",
            "[2,   350] loss: 1.566,                         accuracy = 0.4675\n",
            "[2,   400] loss: 1.494,                         accuracy = 0.4830\n",
            "[2,   450] loss: 1.510,                         accuracy = 0.4690\n",
            "[2,   500] loss: 1.480,                         accuracy = 0.4890\n",
            "[2,   550] loss: 1.469,                         accuracy = 0.4935\n",
            "[2,   600] loss: 1.510,                         accuracy = 0.4570\n",
            "[2,   650] loss: 1.508,                         accuracy = 0.4800\n",
            "[2,   700] loss: 1.417,                         accuracy = 0.4900\n",
            "[2,   750] loss: 1.396,                         accuracy = 0.5080\n",
            "[2,   800] loss: 1.434,                         accuracy = 0.4920\n",
            "[2,   850] loss: 1.396,                         accuracy = 0.5140\n",
            "[2,   900] loss: 1.468,                         accuracy = 0.4790\n",
            "[2,   950] loss: 1.357,                         accuracy = 0.5210\n",
            "[2,  1000] loss: 1.331,                         accuracy = 0.5300\n",
            "------------- Validation -------------\n",
            "Validation accuracy: 0.44600000768899917\n",
            "[3,    50] loss: 1.400,                         accuracy = 0.5110\n",
            "[3,   100] loss: 1.366,                         accuracy = 0.5030\n",
            "[3,   150] loss: 1.404,                         accuracy = 0.5030\n",
            "[3,   200] loss: 1.388,                         accuracy = 0.5045\n",
            "[3,   250] loss: 1.298,                         accuracy = 0.5435\n",
            "[3,   300] loss: 1.384,                         accuracy = 0.5230\n",
            "[3,   350] loss: 1.334,                         accuracy = 0.5290\n",
            "[3,   400] loss: 1.337,                         accuracy = 0.5275\n",
            "[3,   450] loss: 1.354,                         accuracy = 0.5280\n",
            "[3,   500] loss: 1.345,                         accuracy = 0.5240\n",
            "[3,   550] loss: 1.326,                         accuracy = 0.5295\n",
            "[3,   600] loss: 1.336,                         accuracy = 0.5255\n",
            "[3,   650] loss: 1.258,                         accuracy = 0.5460\n",
            "[3,   700] loss: 1.321,                         accuracy = 0.5435\n",
            "[3,   750] loss: 1.264,                         accuracy = 0.5335\n",
            "[3,   800] loss: 1.300,                         accuracy = 0.5480\n",
            "[3,   850] loss: 1.307,                         accuracy = 0.5520\n",
            "[3,   900] loss: 1.251,                         accuracy = 0.5570\n",
            "[3,   950] loss: 1.290,                         accuracy = 0.5430\n",
            "[3,  1000] loss: 1.212,                         accuracy = 0.5750\n",
            "------------- Validation -------------\n",
            "Validation accuracy: 0.4652500087022781\n",
            "------------- Evaluation on test data -------------\n",
            "Test accuracy: 0.442750009894371\n",
            "============================== 10 ways, 8 shots ==============================\n",
            "Device: cuda\n",
            "Number of iterations in each epoch: 1000\n",
            "Number of validation iterations: 100\n",
            "Training started ...\n",
            "[1,    50] loss: 1.917,                         accuracy = 0.3368\n",
            "[1,   100] loss: 1.743,                         accuracy = 0.3898\n",
            "[1,   150] loss: 1.712,                         accuracy = 0.4063\n",
            "[1,   200] loss: 1.717,                         accuracy = 0.4160\n",
            "[1,   250] loss: 1.647,                         accuracy = 0.4155\n",
            "[1,   300] loss: 1.609,                         accuracy = 0.4388\n",
            "[1,   350] loss: 1.536,                         accuracy = 0.4653\n",
            "[1,   400] loss: 1.529,                         accuracy = 0.4660\n",
            "[1,   450] loss: 1.471,                         accuracy = 0.4900\n",
            "[1,   500] loss: 1.503,                         accuracy = 0.4790\n",
            "[1,   550] loss: 1.402,                         accuracy = 0.5118\n",
            "[1,   600] loss: 1.377,                         accuracy = 0.5205\n",
            "[1,   650] loss: 1.370,                         accuracy = 0.5198\n",
            "[1,   700] loss: 1.365,                         accuracy = 0.5285\n",
            "[1,   750] loss: 1.312,                         accuracy = 0.5455\n",
            "[1,   800] loss: 1.324,                         accuracy = 0.5498\n",
            "[1,   850] loss: 1.367,                         accuracy = 0.5333\n",
            "[1,   900] loss: 1.262,                         accuracy = 0.5573\n",
            "[1,   950] loss: 1.267,                         accuracy = 0.5650\n",
            "[1,  1000] loss: 1.242,                         accuracy = 0.5738\n",
            "------------- Validation -------------\n",
            "Validation accuracy: 0.48175000786781313\n",
            "[2,    50] loss: 1.268,                         accuracy = 0.5593\n",
            "[2,   100] loss: 1.209,                         accuracy = 0.5665\n",
            "[2,   150] loss: 1.146,                         accuracy = 0.6053\n",
            "[2,   200] loss: 1.138,                         accuracy = 0.6038\n",
            "[2,   250] loss: 1.163,                         accuracy = 0.5940\n",
            "[2,   300] loss: 1.171,                         accuracy = 0.5915\n",
            "[2,   350] loss: 1.125,                         accuracy = 0.6013\n",
            "[2,   400] loss: 1.152,                         accuracy = 0.6035\n",
            "[2,   450] loss: 1.107,                         accuracy = 0.6198\n",
            "[2,   500] loss: 1.094,                         accuracy = 0.6210\n",
            "[2,   550] loss: 1.047,                         accuracy = 0.6240\n",
            "[2,   600] loss: 1.049,                         accuracy = 0.6405\n",
            "[2,   650] loss: 1.093,                         accuracy = 0.6168\n",
            "[2,   700] loss: 1.075,                         accuracy = 0.6148\n",
            "[2,   750] loss: 1.048,                         accuracy = 0.6365\n",
            "[2,   800] loss: 1.058,                         accuracy = 0.6295\n",
            "[2,   850] loss: 1.037,                         accuracy = 0.6423\n",
            "[2,   900] loss: 0.977,                         accuracy = 0.6615\n",
            "[2,   950] loss: 1.085,                         accuracy = 0.6195\n",
            "[2,  1000] loss: 1.035,                         accuracy = 0.6338\n",
            "------------- Validation -------------\n",
            "Validation accuracy: 0.5445000097155571\n",
            "[3,    50] loss: 0.985,                         accuracy = 0.6523\n",
            "[3,   100] loss: 0.991,                         accuracy = 0.6438\n",
            "[3,   150] loss: 0.950,                         accuracy = 0.6645\n",
            "[3,   200] loss: 0.966,                         accuracy = 0.6660\n",
            "[3,   250] loss: 0.975,                         accuracy = 0.6518\n",
            "[3,   300] loss: 0.939,                         accuracy = 0.6748\n",
            "[3,   350] loss: 0.966,                         accuracy = 0.6703\n",
            "[3,   400] loss: 0.946,                         accuracy = 0.6570\n",
            "[3,   450] loss: 0.932,                         accuracy = 0.6745\n",
            "[3,   500] loss: 0.941,                         accuracy = 0.6698\n",
            "[3,   550] loss: 0.940,                         accuracy = 0.6713\n",
            "[3,   600] loss: 0.911,                         accuracy = 0.6815\n",
            "[3,   650] loss: 0.952,                         accuracy = 0.6628\n",
            "[3,   700] loss: 0.952,                         accuracy = 0.6655\n",
            "[3,   750] loss: 0.873,                         accuracy = 0.6953\n",
            "[3,   800] loss: 0.853,                         accuracy = 0.6995\n",
            "[3,   850] loss: 0.934,                         accuracy = 0.6730\n",
            "[3,   900] loss: 0.905,                         accuracy = 0.6885\n",
            "[3,   950] loss: 0.950,                         accuracy = 0.6563\n",
            "[3,  1000] loss: 0.956,                         accuracy = 0.6660\n",
            "------------- Validation -------------\n",
            "Validation accuracy: 0.5460000106692314\n",
            "------------- Evaluation on test data -------------\n",
            "Test accuracy: 0.5508750116825104\n",
            "============================== 10 ways, 16 shots ==============================\n",
            "Device: cuda\n",
            "Number of iterations in each epoch: 1000\n",
            "Number of validation iterations: 100\n",
            "Training started ...\n",
            "[1,    50] loss: 1.784,                         accuracy = 0.3798\n",
            "[1,   100] loss: 1.577,                         accuracy = 0.4458\n",
            "[1,   150] loss: 1.469,                         accuracy = 0.4879\n",
            "[1,   200] loss: 1.431,                         accuracy = 0.5023\n",
            "[1,   250] loss: 1.388,                         accuracy = 0.5171\n",
            "[1,   300] loss: 1.285,                         accuracy = 0.5516\n",
            "[1,   350] loss: 1.260,                         accuracy = 0.5618\n",
            "[1,   400] loss: 1.197,                         accuracy = 0.5866\n",
            "[1,   450] loss: 1.186,                         accuracy = 0.5929\n",
            "[1,   500] loss: 1.139,                         accuracy = 0.6075\n",
            "[1,   550] loss: 1.117,                         accuracy = 0.6036\n",
            "[1,   600] loss: 1.116,                         accuracy = 0.6110\n",
            "[1,   650] loss: 1.077,                         accuracy = 0.6276\n",
            "[1,   700] loss: 1.032,                         accuracy = 0.6374\n",
            "[1,   750] loss: 1.074,                         accuracy = 0.6255\n",
            "[1,   800] loss: 0.983,                         accuracy = 0.6535\n",
            "[1,   850] loss: 1.004,                         accuracy = 0.6425\n",
            "[1,   900] loss: 0.972,                         accuracy = 0.6609\n",
            "[1,   950] loss: 0.954,                         accuracy = 0.6660\n",
            "[1,  1000] loss: 0.952,                         accuracy = 0.6740\n",
            "------------- Validation -------------\n",
            "Validation accuracy: 0.5716875123977662\n",
            "[2,    50] loss: 0.965,                         accuracy = 0.6653\n",
            "[2,   100] loss: 0.905,                         accuracy = 0.6856\n",
            "[2,   150] loss: 0.917,                         accuracy = 0.6856\n",
            "[2,   200] loss: 0.868,                         accuracy = 0.6930\n",
            "[2,   250] loss: 0.846,                         accuracy = 0.7078\n",
            "[2,   300] loss: 0.885,                         accuracy = 0.6923\n",
            "[2,   350] loss: 0.885,                         accuracy = 0.6900\n",
            "[2,   400] loss: 0.843,                         accuracy = 0.6994\n",
            "[2,   450] loss: 0.833,                         accuracy = 0.7060\n",
            "[2,   500] loss: 0.833,                         accuracy = 0.7103\n",
            "[2,   550] loss: 0.821,                         accuracy = 0.7099\n",
            "[2,   600] loss: 0.775,                         accuracy = 0.7281\n",
            "[2,   650] loss: 0.775,                         accuracy = 0.7235\n",
            "[2,   700] loss: 0.774,                         accuracy = 0.7306\n",
            "[2,   750] loss: 0.759,                         accuracy = 0.7323\n",
            "[2,   800] loss: 0.772,                         accuracy = 0.7276\n",
            "[2,   850] loss: 0.759,                         accuracy = 0.7319\n",
            "[2,   900] loss: 0.742,                         accuracy = 0.7459\n",
            "[2,   950] loss: 0.702,                         accuracy = 0.7571\n",
            "[2,  1000] loss: 0.738,                         accuracy = 0.7434\n",
            "------------- Validation -------------\n",
            "Validation accuracy: 0.6177500101923943\n",
            "[3,    50] loss: 0.708,                         accuracy = 0.7499\n",
            "[3,   100] loss: 0.708,                         accuracy = 0.7506\n",
            "[3,   150] loss: 0.691,                         accuracy = 0.7554\n",
            "[3,   200] loss: 0.670,                         accuracy = 0.7615\n",
            "[3,   250] loss: 0.706,                         accuracy = 0.7513\n",
            "[3,   300] loss: 0.684,                         accuracy = 0.7548\n",
            "[3,   350] loss: 0.668,                         accuracy = 0.7630\n",
            "[3,   400] loss: 0.652,                         accuracy = 0.7685\n",
            "[3,   450] loss: 0.707,                         accuracy = 0.7474\n",
            "[3,   500] loss: 0.674,                         accuracy = 0.7650\n",
            "[3,   550] loss: 0.662,                         accuracy = 0.7624\n",
            "[3,   600] loss: 0.628,                         accuracy = 0.7765\n",
            "[3,   650] loss: 0.636,                         accuracy = 0.7761\n",
            "[3,   700] loss: 0.646,                         accuracy = 0.7740\n",
            "[3,   750] loss: 0.611,                         accuracy = 0.7813\n",
            "[3,   800] loss: 0.612,                         accuracy = 0.7856\n",
            "[3,   850] loss: 0.597,                         accuracy = 0.7940\n",
            "[3,   900] loss: 0.611,                         accuracy = 0.7785\n",
            "[3,   950] loss: 0.586,                         accuracy = 0.7999\n",
            "[3,  1000] loss: 0.589,                         accuracy = 0.7925\n",
            "------------- Validation -------------\n",
            "Validation accuracy: 0.6230625128746032\n",
            "------------- Evaluation on test data -------------\n",
            "Test accuracy: 0.6191250115633011\n"
          ]
        }
      ]
    },
    {
      "cell_type": "code",
      "source": [
        "plt.scatter(all_shots, accuracies)\n",
        "plt.plot(all_shots, accuracies)\n",
        "plt.title('Train and Test => 10 Way, K Shot')\n",
        "plt.xlabel('Shots')\n",
        "plt.ylabel('Accuracy')"
      ],
      "metadata": {
        "colab": {
          "base_uri": "https://localhost:8080/",
          "height": 312
        },
        "id": "aI3mR-lr8KEM",
        "outputId": "0b568ed2-1714-4267-f01f-de6e0ca53c4e"
      },
      "execution_count": 144,
      "outputs": [
        {
          "output_type": "execute_result",
          "data": {
            "text/plain": [
              "Text(0, 0.5, 'Accuracy')"
            ]
          },
          "metadata": {},
          "execution_count": 144
        },
        {
          "output_type": "display_data",
          "data": {
            "text/plain": [
              "<Figure size 432x288 with 1 Axes>"
            ],
            "image/png": "[encoded data removed]"
          },
          "metadata": {
            "needs_background": "light"
          }
        }
      ]
    },
    {
      "cell_type": "markdown",
      "source": [
        "## Part C"
      ],
      "metadata": {
        "id": "DLsDHv2VRVb3"
      }
    },
    {
      "cell_type": "code",
      "source": [
        "all_ways = [2, 4, 8, 16, 32]\n",
        "shots = 5\n",
        "accuracies = []\n",
        "for ways in all_ways:\n",
        "    print(f'============================== {ways} ways, {shots} shots ==============================')\n",
        "    net = train(ways, shots, 10, shots, 3)\n",
        "    acc = test(net, 10, shots)\n",
        "    accuracies.append(acc)"
      ],
      "metadata": {
        "colab": {
          "base_uri": "https://localhost:8080/"
        },
        "id": "SZsGb6nE8vc_",
        "outputId": "80be0a6a-0fa7-42c5-8c25-388c2d8b5ac9"
      },
      "execution_count": 145,
      "outputs": [
        {
          "output_type": "stream",
          "name": "stdout",
          "text": [
            "============================== 2 ways, 5 shots ==============================\n",
            "Device: cuda\n",
            "Number of iterations in each epoch: 1000\n",
            "Number of validation iterations: 100\n",
            "Training started ...\n",
            "[1,    50] loss: 0.659,                         accuracy = 0.6860\n",
            "[1,   100] loss: 0.565,                         accuracy = 0.7040\n",
            "[1,   150] loss: 0.591,                         accuracy = 0.6940\n",
            "[1,   200] loss: 0.618,                         accuracy = 0.6660\n",
            "[1,   250] loss: 0.573,                         accuracy = 0.7140\n",
            "[1,   300] loss: 0.567,                         accuracy = 0.7200\n",
            "[1,   350] loss: 0.587,                         accuracy = 0.7120\n",
            "[1,   400] loss: 0.544,                         accuracy = 0.7500\n",
            "[1,   450] loss: 0.558,                         accuracy = 0.7280\n",
            "[1,   500] loss: 0.610,                         accuracy = 0.6880\n",
            "[1,   550] loss: 0.591,                         accuracy = 0.7060\n",
            "[1,   600] loss: 0.597,                         accuracy = 0.6940\n",
            "[1,   650] loss: 0.589,                         accuracy = 0.6780\n",
            "[1,   700] loss: 0.565,                         accuracy = 0.7140\n",
            "[1,   750] loss: 0.599,                         accuracy = 0.6920\n",
            "[1,   800] loss: 0.605,                         accuracy = 0.6840\n",
            "[1,   850] loss: 0.518,                         accuracy = 0.7720\n",
            "[1,   900] loss: 0.538,                         accuracy = 0.7440\n",
            "[1,   950] loss: 0.576,                         accuracy = 0.7360\n",
            "[1,  1000] loss: 0.531,                         accuracy = 0.7360\n",
            "------------- Validation -------------\n",
            "Validation accuracy: 0.2941999931633472\n",
            "[2,    50] loss: 0.538,                         accuracy = 0.7500\n",
            "[2,   100] loss: 0.544,                         accuracy = 0.7320\n",
            "[2,   150] loss: 0.532,                         accuracy = 0.7560\n",
            "[2,   200] loss: 0.568,                         accuracy = 0.7120\n",
            "[2,   250] loss: 0.592,                         accuracy = 0.6980\n",
            "[2,   300] loss: 0.575,                         accuracy = 0.7040\n",
            "[2,   350] loss: 0.547,                         accuracy = 0.7240\n",
            "[2,   400] loss: 0.592,                         accuracy = 0.7080\n",
            "[2,   450] loss: 0.539,                         accuracy = 0.7140\n",
            "[2,   500] loss: 0.585,                         accuracy = 0.6820\n",
            "[2,   550] loss: 0.535,                         accuracy = 0.7120\n",
            "[2,   600] loss: 0.491,                         accuracy = 0.7420\n",
            "[2,   650] loss: 0.503,                         accuracy = 0.7460\n",
            "[2,   700] loss: 0.526,                         accuracy = 0.7580\n",
            "[2,   750] loss: 0.535,                         accuracy = 0.7400\n",
            "[2,   800] loss: 0.516,                         accuracy = 0.7620\n",
            "[2,   850] loss: 0.584,                         accuracy = 0.7080\n",
            "[2,   900] loss: 0.598,                         accuracy = 0.6740\n",
            "[2,   950] loss: 0.485,                         accuracy = 0.7640\n",
            "[2,  1000] loss: 0.541,                         accuracy = 0.7240\n",
            "------------- Validation -------------\n",
            "Validation accuracy: 0.30519999176263807\n",
            "[3,    50] loss: 0.562,                         accuracy = 0.6960\n",
            "[3,   100] loss: 0.547,                         accuracy = 0.7440\n",
            "[3,   150] loss: 0.508,                         accuracy = 0.7320\n",
            "[3,   200] loss: 0.516,                         accuracy = 0.7360\n",
            "[3,   250] loss: 0.507,                         accuracy = 0.7360\n",
            "[3,   300] loss: 0.549,                         accuracy = 0.7180\n",
            "[3,   350] loss: 0.561,                         accuracy = 0.6940\n",
            "[3,   400] loss: 0.574,                         accuracy = 0.7200\n",
            "[3,   450] loss: 0.481,                         accuracy = 0.7900\n",
            "[3,   500] loss: 0.554,                         accuracy = 0.7280\n",
            "[3,   550] loss: 0.539,                         accuracy = 0.7320\n",
            "[3,   600] loss: 0.470,                         accuracy = 0.7780\n",
            "[3,   650] loss: 0.488,                         accuracy = 0.7540\n",
            "[3,   700] loss: 0.494,                         accuracy = 0.7560\n",
            "[3,   750] loss: 0.483,                         accuracy = 0.7600\n",
            "[3,   800] loss: 0.482,                         accuracy = 0.7820\n",
            "[3,   850] loss: 0.466,                         accuracy = 0.7920\n",
            "[3,   900] loss: 0.561,                         accuracy = 0.7140\n",
            "[3,   950] loss: 0.439,                         accuracy = 0.7820\n",
            "[3,  1000] loss: 0.559,                         accuracy = 0.7240\n",
            "------------- Validation -------------\n",
            "Validation accuracy: 0.32419999182224274\n",
            "------------- Evaluation on test data -------------\n",
            "Test accuracy: 0.29379999250173566\n",
            "============================== 4 ways, 5 shots ==============================\n",
            "Device: cuda\n",
            "Number of iterations in each epoch: 1000\n",
            "Number of validation iterations: 100\n",
            "Training started ...\n",
            "[1,    50] loss: 1.209,                         accuracy = 0.4730\n",
            "[1,   100] loss: 1.140,                         accuracy = 0.5260\n",
            "[1,   150] loss: 1.158,                         accuracy = 0.4950\n",
            "[1,   200] loss: 1.189,                         accuracy = 0.4950\n",
            "[1,   250] loss: 1.129,                         accuracy = 0.5250\n",
            "[1,   300] loss: 1.143,                         accuracy = 0.5240\n",
            "[1,   350] loss: 1.119,                         accuracy = 0.5140\n",
            "[1,   400] loss: 1.135,                         accuracy = 0.4910\n",
            "[1,   450] loss: 1.051,                         accuracy = 0.5540\n",
            "[1,   500] loss: 1.125,                         accuracy = 0.5120\n",
            "[1,   550] loss: 1.072,                         accuracy = 0.5420\n",
            "[1,   600] loss: 1.015,                         accuracy = 0.5860\n",
            "[1,   650] loss: 1.122,                         accuracy = 0.5370\n",
            "[1,   700] loss: 1.016,                         accuracy = 0.5580\n",
            "[1,   750] loss: 1.073,                         accuracy = 0.5420\n",
            "[1,   800] loss: 1.087,                         accuracy = 0.5170\n",
            "[1,   850] loss: 1.048,                         accuracy = 0.5660\n",
            "[1,   900] loss: 1.062,                         accuracy = 0.5290\n",
            "[1,   950] loss: 1.001,                         accuracy = 0.5770\n",
            "[1,  1000] loss: 1.048,                         accuracy = 0.5530\n",
            "------------- Validation -------------\n",
            "Validation accuracy: 0.37799998983740807\n",
            "[2,    50] loss: 0.971,                         accuracy = 0.5950\n",
            "[2,   100] loss: 0.985,                         accuracy = 0.5790\n",
            "[2,   150] loss: 1.050,                         accuracy = 0.5480\n",
            "[2,   200] loss: 0.979,                         accuracy = 0.5850\n",
            "[2,   250] loss: 0.990,                         accuracy = 0.5870\n",
            "[2,   300] loss: 0.996,                         accuracy = 0.5730\n",
            "[2,   350] loss: 1.070,                         accuracy = 0.5430\n",
            "[2,   400] loss: 0.985,                         accuracy = 0.5880\n",
            "[2,   450] loss: 0.968,                         accuracy = 0.5960\n",
            "[2,   500] loss: 0.955,                         accuracy = 0.6090\n",
            "[2,   550] loss: 0.941,                         accuracy = 0.5980\n",
            "[2,   600] loss: 0.989,                         accuracy = 0.6000\n",
            "[2,   650] loss: 0.925,                         accuracy = 0.6210\n",
            "[2,   700] loss: 0.953,                         accuracy = 0.5870\n",
            "[2,   750] loss: 0.970,                         accuracy = 0.5910\n",
            "[2,   800] loss: 0.959,                         accuracy = 0.5910\n",
            "[2,   850] loss: 0.913,                         accuracy = 0.6280\n",
            "[2,   900] loss: 0.941,                         accuracy = 0.5960\n",
            "[2,   950] loss: 0.960,                         accuracy = 0.5810\n",
            "[2,  1000] loss: 0.878,                         accuracy = 0.6320\n",
            "------------- Validation -------------\n",
            "Validation accuracy: 0.3925999888777733\n",
            "[3,    50] loss: 0.896,                         accuracy = 0.6260\n",
            "[3,   100] loss: 0.861,                         accuracy = 0.6460\n",
            "[3,   150] loss: 0.896,                         accuracy = 0.6270\n",
            "[3,   200] loss: 0.905,                         accuracy = 0.6390\n",
            "[3,   250] loss: 0.901,                         accuracy = 0.6240\n",
            "[3,   300] loss: 0.870,                         accuracy = 0.6320\n",
            "[3,   350] loss: 0.909,                         accuracy = 0.6110\n",
            "[3,   400] loss: 0.832,                         accuracy = 0.6650\n",
            "[3,   450] loss: 0.889,                         accuracy = 0.6160\n",
            "[3,   500] loss: 0.863,                         accuracy = 0.6310\n",
            "[3,   550] loss: 0.944,                         accuracy = 0.6040\n",
            "[3,   600] loss: 0.879,                         accuracy = 0.6350\n",
            "[3,   650] loss: 0.917,                         accuracy = 0.6120\n",
            "[3,   700] loss: 0.889,                         accuracy = 0.6170\n",
            "[3,   750] loss: 0.881,                         accuracy = 0.6300\n",
            "[3,   800] loss: 0.885,                         accuracy = 0.6210\n",
            "[3,   850] loss: 0.923,                         accuracy = 0.6110\n",
            "[3,   900] loss: 0.877,                         accuracy = 0.6330\n",
            "[3,   950] loss: 0.858,                         accuracy = 0.6540\n",
            "[3,  1000] loss: 0.873,                         accuracy = 0.6200\n",
            "------------- Validation -------------\n",
            "Validation accuracy: 0.4287999883294106\n",
            "------------- Evaluation on test data -------------\n",
            "Test accuracy: 0.3979999904334545\n",
            "============================== 8 ways, 5 shots ==============================\n",
            "Device: cuda\n",
            "Number of iterations in each epoch: 1000\n",
            "Number of validation iterations: 100\n",
            "Training started ...\n",
            "[1,    50] loss: 1.836,                         accuracy = 0.3150\n",
            "[1,   100] loss: 1.817,                         accuracy = 0.3180\n",
            "[1,   150] loss: 1.683,                         accuracy = 0.3695\n",
            "[1,   200] loss: 1.670,                         accuracy = 0.3800\n",
            "[1,   250] loss: 1.644,                         accuracy = 0.4050\n",
            "[1,   300] loss: 1.662,                         accuracy = 0.3700\n",
            "[1,   350] loss: 1.607,                         accuracy = 0.4010\n",
            "[1,   400] loss: 1.601,                         accuracy = 0.4070\n",
            "[1,   450] loss: 1.506,                         accuracy = 0.4515\n",
            "[1,   500] loss: 1.529,                         accuracy = 0.4360\n",
            "[1,   550] loss: 1.596,                         accuracy = 0.4095\n",
            "[1,   600] loss: 1.486,                         accuracy = 0.4620\n",
            "[1,   650] loss: 1.500,                         accuracy = 0.4320\n",
            "[1,   700] loss: 1.402,                         accuracy = 0.4840\n",
            "[1,   750] loss: 1.435,                         accuracy = 0.4790\n",
            "[1,   800] loss: 1.422,                         accuracy = 0.4625\n",
            "[1,   850] loss: 1.391,                         accuracy = 0.4975\n",
            "[1,   900] loss: 1.442,                         accuracy = 0.4750\n",
            "[1,   950] loss: 1.375,                         accuracy = 0.4990\n",
            "[1,  1000] loss: 1.333,                         accuracy = 0.5175\n",
            "------------- Validation -------------\n",
            "Validation accuracy: 0.4327999892830849\n",
            "[2,    50] loss: 1.327,                         accuracy = 0.5190\n",
            "[2,   100] loss: 1.383,                         accuracy = 0.5035\n",
            "[2,   150] loss: 1.304,                         accuracy = 0.5215\n",
            "[2,   200] loss: 1.350,                         accuracy = 0.5175\n",
            "[2,   250] loss: 1.371,                         accuracy = 0.4885\n",
            "[2,   300] loss: 1.256,                         accuracy = 0.5260\n",
            "[2,   350] loss: 1.287,                         accuracy = 0.5425\n",
            "[2,   400] loss: 1.302,                         accuracy = 0.5205\n",
            "[2,   450] loss: 1.321,                         accuracy = 0.5320\n",
            "[2,   500] loss: 1.305,                         accuracy = 0.5150\n",
            "[2,   550] loss: 1.205,                         accuracy = 0.5690\n",
            "[2,   600] loss: 1.267,                         accuracy = 0.5360\n",
            "[2,   650] loss: 1.248,                         accuracy = 0.5560\n",
            "[2,   700] loss: 1.209,                         accuracy = 0.5695\n",
            "[2,   750] loss: 1.243,                         accuracy = 0.5455\n",
            "[2,   800] loss: 1.207,                         accuracy = 0.5795\n",
            "[2,   850] loss: 1.236,                         accuracy = 0.5550\n",
            "[2,   900] loss: 1.149,                         accuracy = 0.5775\n",
            "[2,   950] loss: 1.167,                         accuracy = 0.5765\n",
            "[2,  1000] loss: 1.227,                         accuracy = 0.5630\n",
            "------------- Validation -------------\n",
            "Validation accuracy: 0.44659998804330825\n",
            "[3,    50] loss: 1.158,                         accuracy = 0.5970\n",
            "[3,   100] loss: 1.141,                         accuracy = 0.5825\n",
            "[3,   150] loss: 1.172,                         accuracy = 0.5830\n",
            "[3,   200] loss: 1.168,                         accuracy = 0.5785\n",
            "[3,   250] loss: 1.127,                         accuracy = 0.5945\n",
            "[3,   300] loss: 1.151,                         accuracy = 0.5795\n",
            "[3,   350] loss: 1.176,                         accuracy = 0.5625\n",
            "[3,   400] loss: 1.108,                         accuracy = 0.5965\n",
            "[3,   450] loss: 1.075,                         accuracy = 0.6180\n",
            "[3,   500] loss: 1.070,                         accuracy = 0.6085\n",
            "[3,   550] loss: 1.082,                         accuracy = 0.6155\n",
            "[3,   600] loss: 1.046,                         accuracy = 0.6135\n",
            "[3,   650] loss: 1.075,                         accuracy = 0.6135\n",
            "[3,   700] loss: 1.113,                         accuracy = 0.5985\n",
            "[3,   750] loss: 1.067,                         accuracy = 0.6140\n",
            "[3,   800] loss: 1.107,                         accuracy = 0.6015\n",
            "[3,   850] loss: 1.019,                         accuracy = 0.6325\n",
            "[3,   900] loss: 1.100,                         accuracy = 0.6130\n",
            "[3,   950] loss: 1.080,                         accuracy = 0.5970\n",
            "[3,  1000] loss: 1.076,                         accuracy = 0.6200\n",
            "------------- Validation -------------\n",
            "Validation accuracy: 0.46959998726844787\n",
            "------------- Evaluation on test data -------------\n",
            "Test accuracy: 0.4911999851465225\n",
            "============================== 16 ways, 5 shots ==============================\n",
            "Device: cuda\n",
            "Number of iterations in each epoch: 1000\n",
            "Number of validation iterations: 100\n",
            "Training started ...\n",
            "[1,    50] loss: 2.402,                         accuracy = 0.2433\n",
            "[1,   100] loss: 2.235,                         accuracy = 0.2838\n",
            "[1,   150] loss: 2.215,                         accuracy = 0.2895\n",
            "[1,   200] loss: 2.107,                         accuracy = 0.3195\n",
            "[1,   250] loss: 2.033,                         accuracy = 0.3533\n",
            "[1,   300] loss: 2.011,                         accuracy = 0.3490\n",
            "[1,   350] loss: 1.923,                         accuracy = 0.3798\n",
            "[1,   400] loss: 1.937,                         accuracy = 0.3753\n",
            "[1,   450] loss: 1.883,                         accuracy = 0.3905\n",
            "[1,   500] loss: 1.893,                         accuracy = 0.3863\n",
            "[1,   550] loss: 1.822,                         accuracy = 0.4120\n",
            "[1,   600] loss: 1.836,                         accuracy = 0.4100\n",
            "[1,   650] loss: 1.774,                         accuracy = 0.4250\n",
            "[1,   700] loss: 1.732,                         accuracy = 0.4398\n",
            "[1,   750] loss: 1.689,                         accuracy = 0.4498\n",
            "[1,   800] loss: 1.713,                         accuracy = 0.4430\n",
            "[1,   850] loss: 1.703,                         accuracy = 0.4338\n",
            "[1,   900] loss: 1.736,                         accuracy = 0.4405\n",
            "[1,   950] loss: 1.693,                         accuracy = 0.4640\n",
            "[1,  1000] loss: 1.629,                         accuracy = 0.4665\n",
            "------------- Validation -------------\n",
            "Validation accuracy: 0.4929999852180481\n",
            "[2,    50] loss: 1.585,                         accuracy = 0.4853\n",
            "[2,   100] loss: 1.557,                         accuracy = 0.4963\n",
            "[2,   150] loss: 1.524,                         accuracy = 0.4980\n",
            "[2,   200] loss: 1.576,                         accuracy = 0.4923\n",
            "[2,   250] loss: 1.548,                         accuracy = 0.4945\n",
            "[2,   300] loss: 1.520,                         accuracy = 0.5063\n",
            "[2,   350] loss: 1.490,                         accuracy = 0.5205\n",
            "[2,   400] loss: 1.488,                         accuracy = 0.5000\n",
            "[2,   450] loss: 1.458,                         accuracy = 0.5193\n",
            "[2,   500] loss: 1.484,                         accuracy = 0.5188\n",
            "[2,   550] loss: 1.456,                         accuracy = 0.5183\n",
            "[2,   600] loss: 1.398,                         accuracy = 0.5408\n",
            "[2,   650] loss: 1.463,                         accuracy = 0.5220\n",
            "[2,   700] loss: 1.347,                         accuracy = 0.5408\n",
            "[2,   750] loss: 1.412,                         accuracy = 0.5330\n",
            "[2,   800] loss: 1.405,                         accuracy = 0.5378\n",
            "[2,   850] loss: 1.410,                         accuracy = 0.5408\n",
            "[2,   900] loss: 1.337,                         accuracy = 0.5680\n",
            "[2,   950] loss: 1.376,                         accuracy = 0.5455\n",
            "[2,  1000] loss: 1.366,                         accuracy = 0.5493\n",
            "------------- Validation -------------\n",
            "Validation accuracy: 0.5109999874234199\n",
            "[3,    50] loss: 1.294,                         accuracy = 0.5805\n",
            "[3,   100] loss: 1.279,                         accuracy = 0.5728\n",
            "[3,   150] loss: 1.277,                         accuracy = 0.5713\n",
            "[3,   200] loss: 1.292,                         accuracy = 0.5778\n",
            "[3,   250] loss: 1.290,                         accuracy = 0.5728\n",
            "[3,   300] loss: 1.342,                         accuracy = 0.5615\n",
            "[3,   350] loss: 1.320,                         accuracy = 0.5598\n",
            "[3,   400] loss: 1.238,                         accuracy = 0.5838\n",
            "[3,   450] loss: 1.232,                         accuracy = 0.6008\n",
            "[3,   500] loss: 1.267,                         accuracy = 0.5773\n",
            "[3,   550] loss: 1.226,                         accuracy = 0.5933\n",
            "[3,   600] loss: 1.234,                         accuracy = 0.5918\n",
            "[3,   650] loss: 1.196,                         accuracy = 0.6085\n",
            "[3,   700] loss: 1.195,                         accuracy = 0.5953\n",
            "[3,   750] loss: 1.219,                         accuracy = 0.5933\n",
            "[3,   800] loss: 1.171,                         accuracy = 0.6090\n",
            "[3,   850] loss: 1.189,                         accuracy = 0.6068\n",
            "[3,   900] loss: 1.195,                         accuracy = 0.6088\n",
            "[3,   950] loss: 1.151,                         accuracy = 0.6135\n",
            "[3,  1000] loss: 1.201,                         accuracy = 0.5938\n",
            "------------- Validation -------------\n",
            "Validation accuracy: 0.5115999871492386\n",
            "------------- Evaluation on test data -------------\n",
            "Test accuracy: 0.4907999858260155\n",
            "============================== 32 ways, 5 shots ==============================\n",
            "Device: cuda\n",
            "Number of iterations in each epoch: 1000\n",
            "Number of validation iterations: 100\n",
            "Training started ...\n",
            "[1,    50] loss: 2.919,                         accuracy = 0.1951\n",
            "[1,   100] loss: 2.719,                         accuracy = 0.2363\n",
            "[1,   150] loss: 2.632,                         accuracy = 0.2481\n",
            "[1,   200] loss: 2.515,                         accuracy = 0.2803\n",
            "[1,   250] loss: 2.438,                         accuracy = 0.2934\n",
            "[1,   300] loss: 2.408,                         accuracy = 0.3115\n",
            "[1,   350] loss: 2.290,                         accuracy = 0.3214\n",
            "[1,   400] loss: 2.200,                         accuracy = 0.3551\n",
            "[1,   450] loss: 2.161,                         accuracy = 0.3656\n",
            "[1,   500] loss: 2.092,                         accuracy = 0.3834\n",
            "[1,   550] loss: 2.123,                         accuracy = 0.3778\n",
            "[1,   600] loss: 2.070,                         accuracy = 0.3896\n",
            "[1,   650] loss: 2.003,                         accuracy = 0.4013\n",
            "[1,   700] loss: 1.996,                         accuracy = 0.4083\n",
            "[1,   750] loss: 1.949,                         accuracy = 0.4158\n",
            "[1,   800] loss: 1.963,                         accuracy = 0.4139\n",
            "[1,   850] loss: 1.910,                         accuracy = 0.4280\n",
            "[1,   900] loss: 1.845,                         accuracy = 0.4389\n",
            "[1,   950] loss: 1.834,                         accuracy = 0.4489\n",
            "[1,  1000] loss: 1.793,                         accuracy = 0.4600\n",
            "------------- Validation -------------\n",
            "Validation accuracy: 0.5187999874353408\n",
            "[2,    50] loss: 1.793,                         accuracy = 0.4545\n",
            "[2,   100] loss: 1.751,                         accuracy = 0.4639\n",
            "[2,   150] loss: 1.707,                         accuracy = 0.4738\n",
            "[2,   200] loss: 1.721,                         accuracy = 0.4724\n",
            "[2,   250] loss: 1.708,                         accuracy = 0.4784\n",
            "[2,   300] loss: 1.673,                         accuracy = 0.4911\n",
            "[2,   350] loss: 1.671,                         accuracy = 0.4904\n",
            "[2,   400] loss: 1.625,                         accuracy = 0.4954\n",
            "[2,   450] loss: 1.616,                         accuracy = 0.5028\n",
            "[2,   500] loss: 1.626,                         accuracy = 0.5081\n",
            "[2,   550] loss: 1.607,                         accuracy = 0.5118\n",
            "[2,   600] loss: 1.581,                         accuracy = 0.5233\n",
            "[2,   650] loss: 1.536,                         accuracy = 0.5288\n",
            "[2,   700] loss: 1.531,                         accuracy = 0.5371\n",
            "[2,   750] loss: 1.514,                         accuracy = 0.5400\n",
            "[2,   800] loss: 1.519,                         accuracy = 0.5356\n",
            "[2,   850] loss: 1.497,                         accuracy = 0.5401\n",
            "[2,   900] loss: 1.467,                         accuracy = 0.5544\n",
            "[2,   950] loss: 1.442,                         accuracy = 0.5530\n",
            "[2,  1000] loss: 1.460,                         accuracy = 0.5450\n",
            "------------- Validation -------------\n",
            "Validation accuracy: 0.5349999815225601\n",
            "[3,    50] loss: 1.441,                         accuracy = 0.5543\n",
            "[3,   100] loss: 1.457,                         accuracy = 0.5494\n",
            "[3,   150] loss: 1.432,                         accuracy = 0.5595\n",
            "[3,   200] loss: 1.369,                         accuracy = 0.5683\n",
            "[3,   250] loss: 1.407,                         accuracy = 0.5616\n",
            "[3,   300] loss: 1.344,                         accuracy = 0.5748\n",
            "[3,   350] loss: 1.373,                         accuracy = 0.5775\n",
            "[3,   400] loss: 1.370,                         accuracy = 0.5650\n",
            "[3,   450] loss: 1.319,                         accuracy = 0.5864\n",
            "[3,   500] loss: 1.323,                         accuracy = 0.5754\n",
            "[3,   550] loss: 1.304,                         accuracy = 0.5869\n",
            "[3,   600] loss: 1.281,                         accuracy = 0.5975\n",
            "[3,   650] loss: 1.295,                         accuracy = 0.5974\n",
            "[3,   700] loss: 1.284,                         accuracy = 0.5900\n",
            "[3,   750] loss: 1.261,                         accuracy = 0.6101\n",
            "[3,   800] loss: 1.254,                         accuracy = 0.6011\n",
            "[3,   850] loss: 1.241,                         accuracy = 0.6038\n",
            "[3,   900] loss: 1.242,                         accuracy = 0.6084\n",
            "[3,   950] loss: 1.233,                         accuracy = 0.6040\n",
            "[3,  1000] loss: 1.219,                         accuracy = 0.6184\n",
            "------------- Validation -------------\n",
            "Validation accuracy: 0.5289999842643738\n",
            "------------- Evaluation on test data -------------\n",
            "Test accuracy: 0.5399999833106994\n"
          ]
        }
      ]
    },
    {
      "cell_type": "code",
      "source": [
        "plt.scatter(all_ways, accuracies)\n",
        "plt.plot(all_ways, accuracies)\n",
        "plt.title('Train => N way, 5 shot - Test => 10 Way, 5 Shot')\n",
        "plt.xlabel('Ways')\n",
        "plt.ylabel('Accuracy')"
      ],
      "metadata": {
        "colab": {
          "base_uri": "https://localhost:8080/",
          "height": 312
        },
        "id": "S9dU0zyGIFxa",
        "outputId": "48e3e717-6115-45f6-8ff9-f1390ce7d6b8"
      },
      "execution_count": 146,
      "outputs": [
        {
          "output_type": "execute_result",
          "data": {
            "text/plain": [
              "Text(0, 0.5, 'Accuracy')"
            ]
          },
          "metadata": {},
          "execution_count": 146
        },
        {
          "output_type": "display_data",
          "data": {
            "text/plain": [
              "<Figure size 432x288 with 1 Axes>"
            ],
            "image/png": "[encoded data removed]"
          },
          "metadata": {
            "needs_background": "light"
          }
        }
      ]
    },
    {
      "cell_type": "markdown",
      "source": [
        "## Part D"
      ],
      "metadata": {
        "id": "ywEFoyTyGHSg"
      }
    },
    {
      "cell_type": "code",
      "source": [
        "net = train(10, 10, 10, 10, 3)\n",
        "all_shots = [1, 5, 10, 15, 20]\n",
        "ways = 10\n",
        "accuracies = []\n",
        "for shots in all_shots:\n",
        "    print(f'============================== {ways} ways, {shots} shots ==============================')\n",
        "    acc = test(net, ways, shots)\n",
        "    accuracies.append(acc)"
      ],
      "metadata": {
        "colab": {
          "base_uri": "https://localhost:8080/"
        },
        "id": "I-XtGX4m89jD",
        "outputId": "cb482ab8-3757-492a-845b-c285a8fbde3e"
      },
      "execution_count": 147,
      "outputs": [
        {
          "output_type": "stream",
          "name": "stdout",
          "text": [
            "Device: cuda\n",
            "Number of iterations in each epoch: 1000\n",
            "Number of validation iterations: 100\n",
            "Training started ...\n",
            "[1,    50] loss: 1.817,                         accuracy = 0.3692\n",
            "[1,   100] loss: 1.765,                         accuracy = 0.3908\n",
            "[1,   150] loss: 1.661,                         accuracy = 0.4214\n",
            "[1,   200] loss: 1.641,                         accuracy = 0.4248\n",
            "[1,   250] loss: 1.523,                         accuracy = 0.4674\n",
            "[1,   300] loss: 1.493,                         accuracy = 0.4802\n",
            "[1,   350] loss: 1.418,                         accuracy = 0.5058\n",
            "[1,   400] loss: 1.423,                         accuracy = 0.5034\n",
            "[1,   450] loss: 1.384,                         accuracy = 0.5214\n",
            "[1,   500] loss: 1.359,                         accuracy = 0.5240\n",
            "[1,   550] loss: 1.306,                         accuracy = 0.5400\n",
            "[1,   600] loss: 1.285,                         accuracy = 0.5490\n",
            "[1,   650] loss: 1.316,                         accuracy = 0.5410\n",
            "[1,   700] loss: 1.273,                         accuracy = 0.5588\n",
            "[1,   750] loss: 1.285,                         accuracy = 0.5462\n",
            "[1,   800] loss: 1.232,                         accuracy = 0.5668\n",
            "[1,   850] loss: 1.205,                         accuracy = 0.5858\n",
            "[1,   900] loss: 1.132,                         accuracy = 0.5994\n",
            "[1,   950] loss: 1.209,                         accuracy = 0.5830\n",
            "[1,  1000] loss: 1.107,                         accuracy = 0.6034\n",
            "------------- Validation -------------\n",
            "Validation accuracy: 0.5464999896287918\n",
            "[2,    50] loss: 1.101,                         accuracy = 0.6166\n",
            "[2,   100] loss: 1.137,                         accuracy = 0.6036\n",
            "[2,   150] loss: 1.103,                         accuracy = 0.6170\n",
            "[2,   200] loss: 1.084,                         accuracy = 0.6126\n",
            "[2,   250] loss: 1.087,                         accuracy = 0.6204\n",
            "[2,   300] loss: 1.021,                         accuracy = 0.6410\n",
            "[2,   350] loss: 0.993,                         accuracy = 0.6530\n",
            "[2,   400] loss: 1.017,                         accuracy = 0.6506\n",
            "[2,   450] loss: 1.057,                         accuracy = 0.6352\n",
            "[2,   500] loss: 0.995,                         accuracy = 0.6482\n",
            "[2,   550] loss: 0.998,                         accuracy = 0.6460\n",
            "[2,   600] loss: 0.988,                         accuracy = 0.6518\n",
            "[2,   650] loss: 1.021,                         accuracy = 0.6420\n",
            "[2,   700] loss: 0.939,                         accuracy = 0.6748\n",
            "[2,   750] loss: 1.001,                         accuracy = 0.6516\n",
            "[2,   800] loss: 0.979,                         accuracy = 0.6598\n",
            "[2,   850] loss: 0.979,                         accuracy = 0.6564\n",
            "[2,   900] loss: 0.906,                         accuracy = 0.6890\n",
            "[2,   950] loss: 0.953,                         accuracy = 0.6678\n",
            "[2,  1000] loss: 0.896,                         accuracy = 0.6848\n",
            "------------- Validation -------------\n",
            "Validation accuracy: 0.5630999872088432\n",
            "[3,    50] loss: 0.938,                         accuracy = 0.6746\n",
            "[3,   100] loss: 0.875,                         accuracy = 0.6908\n",
            "[3,   150] loss: 0.887,                         accuracy = 0.6910\n",
            "[3,   200] loss: 0.895,                         accuracy = 0.6944\n",
            "[3,   250] loss: 0.855,                         accuracy = 0.7038\n",
            "[3,   300] loss: 0.861,                         accuracy = 0.7074\n",
            "[3,   350] loss: 0.826,                         accuracy = 0.7044\n",
            "[3,   400] loss: 0.804,                         accuracy = 0.7252\n",
            "[3,   450] loss: 0.833,                         accuracy = 0.7012\n",
            "[3,   500] loss: 0.856,                         accuracy = 0.7040\n",
            "[3,   550] loss: 0.849,                         accuracy = 0.7034\n",
            "[3,   600] loss: 0.799,                         accuracy = 0.7194\n",
            "[3,   650] loss: 0.807,                         accuracy = 0.7210\n",
            "[3,   700] loss: 0.816,                         accuracy = 0.7136\n",
            "[3,   750] loss: 0.790,                         accuracy = 0.7192\n",
            "[3,   800] loss: 0.777,                         accuracy = 0.7194\n",
            "[3,   850] loss: 0.768,                         accuracy = 0.7240\n",
            "[3,   900] loss: 0.795,                         accuracy = 0.7202\n",
            "[3,   950] loss: 0.791,                         accuracy = 0.7214\n",
            "[3,  1000] loss: 0.829,                         accuracy = 0.7090\n",
            "------------- Validation -------------\n",
            "Validation accuracy: 0.5848999854922294\n",
            "============================== 10 ways, 1 shots ==============================\n",
            "------------- Evaluation on test data -------------\n",
            "Test accuracy: 0.338000006750226\n",
            "============================== 10 ways, 5 shots ==============================\n",
            "------------- Evaluation on test data -------------\n",
            "Test accuracy: 0.5267999839782714\n",
            "============================== 10 ways, 10 shots ==============================\n",
            "------------- Evaluation on test data -------------\n",
            "Test accuracy: 0.58059998691082\n",
            "============================== 10 ways, 15 shots ==============================\n",
            "------------- Evaluation on test data -------------\n",
            "Test accuracy: 0.6040666794776917\n",
            "============================== 10 ways, 20 shots ==============================\n",
            "------------- Evaluation on test data -------------\n",
            "Test accuracy: 0.6174499857425689\n"
          ]
        }
      ]
    },
    {
      "cell_type": "code",
      "source": [
        "plt.scatter(all_ways, accuracies)\n",
        "plt.plot(all_ways, accuracies)\n",
        "plt.title('Train => 10 way, 10 shot - Test => 10 Way, K Shot')\n",
        "plt.xlabel('Shots')\n",
        "plt.ylabel('Accuracy')"
      ],
      "metadata": {
        "colab": {
          "base_uri": "https://localhost:8080/",
          "height": 312
        },
        "id": "kVVIZ5MCIRmN",
        "outputId": "5c3daed7-783c-4129-c502-9ebe9a0f4071"
      },
      "execution_count": 148,
      "outputs": [
        {
          "output_type": "execute_result",
          "data": {
            "text/plain": [
              "Text(0, 0.5, 'Accuracy')"
            ]
          },
          "metadata": {},
          "execution_count": 148
        },
        {
          "output_type": "display_data",
          "data": {
            "text/plain": [
              "<Figure size 432x288 with 1 Axes>"
            ],
            "image/png": "[encoded data removed]"
          },
          "metadata": {
            "needs_background": "light"
          }
        }
      ]
    },
    {
      "cell_type": "code",
      "source": [
        ""
      ],
      "metadata": {
        "id": "xZy4c_fbR7AF"
      },
      "execution_count": null,
      "outputs": []
    }
  ]
}